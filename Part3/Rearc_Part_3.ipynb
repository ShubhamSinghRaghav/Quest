{
  "nbformat": 4,
  "nbformat_minor": 0,
  "metadata": {
    "colab": {
      "provenance": []
    },
    "kernelspec": {
      "name": "python3",
      "display_name": "Python 3"
    },
    "language_info": {
      "name": "python"
    }
  },
  "cells": [
    {
      "cell_type": "code",
      "execution_count": 1,
      "metadata": {
        "colab": {
          "base_uri": "https://localhost:8080/"
        },
        "id": "HWs-xBF4OMLV",
        "outputId": "3b45a646-ac6a-43e6-ea23-98812b7a3763"
      },
      "outputs": [
        {
          "output_type": "stream",
          "name": "stdout",
          "text": [
            "Collecting boto3\n",
            "  Downloading boto3-1.40.46-py3-none-any.whl.metadata (6.7 kB)\n",
            "Collecting botocore<1.41.0,>=1.40.46 (from boto3)\n",
            "  Downloading botocore-1.40.46-py3-none-any.whl.metadata (5.7 kB)\n",
            "Collecting jmespath<2.0.0,>=0.7.1 (from boto3)\n",
            "  Downloading jmespath-1.0.1-py3-none-any.whl.metadata (7.6 kB)\n",
            "Collecting s3transfer<0.15.0,>=0.14.0 (from boto3)\n",
            "  Downloading s3transfer-0.14.0-py3-none-any.whl.metadata (1.7 kB)\n",
            "Requirement already satisfied: python-dateutil<3.0.0,>=2.1 in /usr/local/lib/python3.12/dist-packages (from botocore<1.41.0,>=1.40.46->boto3) (2.9.0.post0)\n",
            "Requirement already satisfied: urllib3!=2.2.0,<3,>=1.25.4 in /usr/local/lib/python3.12/dist-packages (from botocore<1.41.0,>=1.40.46->boto3) (2.5.0)\n",
            "Requirement already satisfied: six>=1.5 in /usr/local/lib/python3.12/dist-packages (from python-dateutil<3.0.0,>=2.1->botocore<1.41.0,>=1.40.46->boto3) (1.17.0)\n",
            "Downloading boto3-1.40.46-py3-none-any.whl (139 kB)\n",
            "\u001b[2K   \u001b[90m━━━━━━━━━━━━━━━━━━━━━━━━━━━━━━━━━━━━━━━━\u001b[0m \u001b[32m139.3/139.3 kB\u001b[0m \u001b[31m3.4 MB/s\u001b[0m eta \u001b[36m0:00:00\u001b[0m\n",
            "\u001b[?25hDownloading botocore-1.40.46-py3-none-any.whl (14.1 MB)\n",
            "\u001b[2K   \u001b[90m━━━━━━━━━━━━━━━━━━━━━━━━━━━━━━━━━━━━━━━━\u001b[0m \u001b[32m14.1/14.1 MB\u001b[0m \u001b[31m54.2 MB/s\u001b[0m eta \u001b[36m0:00:00\u001b[0m\n",
            "\u001b[?25hDownloading jmespath-1.0.1-py3-none-any.whl (20 kB)\n",
            "Downloading s3transfer-0.14.0-py3-none-any.whl (85 kB)\n",
            "\u001b[2K   \u001b[90m━━━━━━━━━━━━━━━━━━━━━━━━━━━━━━━━━━━━━━━━\u001b[0m \u001b[32m85.7/85.7 kB\u001b[0m \u001b[31m3.9 MB/s\u001b[0m eta \u001b[36m0:00:00\u001b[0m\n",
            "\u001b[?25hInstalling collected packages: jmespath, botocore, s3transfer, boto3\n",
            "Successfully installed boto3-1.40.46 botocore-1.40.46 jmespath-1.0.1 s3transfer-0.14.0\n"
          ]
        }
      ],
      "source": [
        "pip install boto3"
      ]
    },
    {
      "cell_type": "markdown",
      "source": [
        "# Import KEYS"
      ],
      "metadata": {
        "id": "eThDb8tcRskE"
      }
    },
    {
      "cell_type": "code",
      "source": [
        "import os\n",
        "# Set via environment (or rely on your shell env); DO NOT paste real secrets in notebooks.\n",
        "\n",
        "os.environ[\"AWS_ACCESS_KEY_ID\"] = \"<>\"\n",
        "os.environ[\"AWS_SECRET_ACCESS_KEY\"] = \"<>\"\n",
        "os.environ[\"AWS_DEFAULT_REGION\"] = \"ap-south-1\""
      ],
      "metadata": {
        "id": "AdPaC7EjPflM"
      },
      "execution_count": 40,
      "outputs": []
    },
    {
      "cell_type": "markdown",
      "source": [
        "# Start Spark Session\n",
        "* Load CSV & JSON from different sources\n",
        "* Download them locally to perform analysis"
      ],
      "metadata": {
        "id": "kPfaNR38R1xJ"
      }
    },
    {
      "cell_type": "code",
      "source": [
        "import os, json, boto3\n",
        "from pyspark.sql import SparkSession\n",
        "from pyspark.sql.functions import col, trim, when, sum as _sum, avg, stddev, row_number, format_number\n",
        "from pyspark.sql.window import Window\n",
        "\n",
        "\n",
        "BUCKET     = \"rearc-assessment-ss\"\n",
        "TS_KEY     = \"part1/pr.data.0.Current\"\n",
        "POP_KEY    = \"part2/population.json\"\n",
        "\n",
        "\n",
        "TS_LOCAL   = \"/tmp/pr.data.0.Current\"\n",
        "POP_LOCAL  = \"/tmp/population.json\"\n",
        "\n",
        "\n",
        "s3 = boto3.client(\"s3\",\n",
        "    aws_access_key_id=os.environ.get(\"AWS_ACCESS_KEY_ID\"),\n",
        "    aws_secret_access_key=os.environ.get(\"AWS_SECRET_ACCESS_KEY\"),\n",
        "    region_name=os.environ.get(\"AWS_DEFAULT_REGION\")\n",
        ")\n",
        "s3.download_file(BUCKET, TS_KEY,  TS_LOCAL)\n",
        "s3.download_file(BUCKET, POP_KEY, POP_LOCAL)\n",
        "print(\" Downloaded:\")\n",
        "print(\" -\", TS_LOCAL)\n",
        "print(\" -\", POP_LOCAL)\n",
        "\n",
        "spark = SparkSession.builder.appName(\"rearc-part3\").getOrCreate()\n"
      ],
      "metadata": {
        "colab": {
          "base_uri": "https://localhost:8080/"
        },
        "collapsed": true,
        "id": "zw_p4ptiOTat",
        "outputId": "56136526-a441-4244-ed00-8945c318b868"
      },
      "execution_count": 39,
      "outputs": [
        {
          "output_type": "stream",
          "name": "stdout",
          "text": [
            " Downloaded:\n",
            " - /tmp/pr.data.0.Current\n",
            " - /tmp/population.json\n"
          ]
        }
      ]
    },
    {
      "cell_type": "markdown",
      "source": [
        "# Load DATAUSA data from S3\n",
        "* Data is already pushed via from API to S3"
      ],
      "metadata": {
        "id": "hNHiCuL0SGtz"
      }
    },
    {
      "cell_type": "code",
      "source": [
        "pop_raw = spark.read.text(POP_LOCAL).collect()[0][0]\n",
        "pop_json = json.loads(pop_raw)\n",
        "pop_rows = pop_json[\"data\"]\n",
        "\n",
        "pop_df = spark.createDataFrame(pop_rows) \\\n",
        "    .withColumnRenamed(\"Nation ID\",\"NationID\") \\\n",
        "    .withColumnRenamed(\"Nation\",\"Nation\") \\\n",
        "    .withColumnRenamed(\"Year\",\"Year\") \\\n",
        "    .withColumnRenamed(\"Population\",\"Population\") \\\n",
        "    .select(\n",
        "        col(\"NationID\"),\n",
        "        col(\"Nation\"),\n",
        "        col(\"Year\").cast(\"int\").alias(\"Year\"),\n",
        "        col(\"Population\").cast(\"double\").alias(\"Population\")\n",
        "    )\n",
        "\n",
        "print(\"Population schema\")\n",
        "pop_df.printSchema()\n",
        "pop_df.show()"
      ],
      "metadata": {
        "colab": {
          "base_uri": "https://localhost:8080/"
        },
        "id": "h2KdwKP0P9nx",
        "outputId": "1c498f5d-dc63-4c9d-d7f5-0aa1be70f3a7"
      },
      "execution_count": 15,
      "outputs": [
        {
          "output_type": "stream",
          "name": "stdout",
          "text": [
            "Population schema\n",
            "root\n",
            " |-- NationID: string (nullable = true)\n",
            " |-- Nation: string (nullable = true)\n",
            " |-- Year: integer (nullable = true)\n",
            " |-- Population: double (nullable = true)\n",
            "\n",
            "+--------+-------------+----+------------+\n",
            "|NationID|       Nation|Year|  Population|\n",
            "+--------+-------------+----+------------+\n",
            "| 01000US|United States|2013|3.16128839E8|\n",
            "| 01000US|United States|2014|3.18857056E8|\n",
            "| 01000US|United States|2015|3.21418821E8|\n",
            "| 01000US|United States|2016|3.23127515E8|\n",
            "| 01000US|United States|2017|3.25719178E8|\n",
            "| 01000US|United States|2018|3.27167439E8|\n",
            "| 01000US|United States|2019|3.28239523E8|\n",
            "| 01000US|United States|2021|3.31893745E8|\n",
            "| 01000US|United States|2022|3.33287562E8|\n",
            "| 01000US|United States|2023|3.34914896E8|\n",
            "+--------+-------------+----+------------+\n",
            "\n"
          ]
        }
      ]
    },
    {
      "cell_type": "markdown",
      "source": [
        "# Load PART 1 CSV data\n",
        "* Data is already pushed to S3 from scheduler that monitors any change\n",
        "* Created Dataframe"
      ],
      "metadata": {
        "id": "NSJOuZXmSVHi"
      }
    },
    {
      "cell_type": "code",
      "source": [
        "ts_df = (spark.read\n",
        "         .option(\"header\", True)\n",
        "         .option(\"sep\", \"\\t\")\n",
        "         .option(\"inferSchema\", True)\n",
        "         .option(\"quote\", \"\\u0000\")\n",
        "         .option(\"ignoreLeadingWhiteSpace\", \"true\")\n",
        "         .option(\"ignoreTrailingWhiteSpace\", \"true\")\n",
        "         .csv(TS_LOCAL))\n",
        "\n",
        "ts_df.show(5, truncate=False)\n",
        "\n",
        "\n",
        "ts_df = (ts_df\n",
        "         .withColumn(\"series_id\", trim(col(\"series_id\")))\n",
        "         .withColumn(\"period\",    trim(col(\"period\")))\n",
        "         .withColumn(\"year\",      col(\"year\").cast(\"int\"))\n",
        "         .withColumn(\"value\",     col(\"value\").cast(\"double\")))\n",
        "\n",
        "print(\"Schema\")\n",
        "ts_df.printSchema()\n",
        "ts_df.show(5, truncate=False)"
      ],
      "metadata": {
        "colab": {
          "base_uri": "https://localhost:8080/"
        },
        "id": "y7nFDnPeQA51",
        "outputId": "835ca2da-2ecc-433a-86f3-c68a9ce7e81c"
      },
      "execution_count": 34,
      "outputs": [
        {
          "output_type": "stream",
          "name": "stdout",
          "text": [
            "+-----------+----+------+-----+--------------+\n",
            "|series_id  |year|period|value|footnote_codes|\n",
            "+-----------+----+------+-----+--------------+\n",
            "|PRS30006011|1995|Q01   |2.6  |NULL          |\n",
            "|PRS30006011|1995|Q02   |2.1  |NULL          |\n",
            "|PRS30006011|1995|Q03   |0.9  |NULL          |\n",
            "|PRS30006011|1995|Q04   |0.1  |NULL          |\n",
            "|PRS30006011|1995|Q05   |1.4  |NULL          |\n",
            "+-----------+----+------+-----+--------------+\n",
            "only showing top 5 rows\n",
            "\n",
            "Schema\n",
            "root\n",
            " |-- series_id: string (nullable = true)\n",
            " |-- year: integer (nullable = true)\n",
            " |-- period: string (nullable = true)\n",
            " |-- value: double (nullable = true)\n",
            " |-- footnote_codes: string (nullable = true)\n",
            "\n",
            "+-----------+----+------+-----+--------------+\n",
            "|series_id  |year|period|value|footnote_codes|\n",
            "+-----------+----+------+-----+--------------+\n",
            "|PRS30006011|1995|Q01   |2.6  |NULL          |\n",
            "|PRS30006011|1995|Q02   |2.1  |NULL          |\n",
            "|PRS30006011|1995|Q03   |0.9  |NULL          |\n",
            "|PRS30006011|1995|Q04   |0.1  |NULL          |\n",
            "|PRS30006011|1995|Q05   |1.4  |NULL          |\n",
            "+-----------+----+------+-----+--------------+\n",
            "only showing top 5 rows\n",
            "\n"
          ]
        }
      ]
    },
    {
      "cell_type": "markdown",
      "source": [
        "# PART 3 : Task 1\n",
        "Using the dataframe from the population data API (Part 2), generate the mean and the standard deviation of the annual US population across the years [2013, 2018] inclusive.[link text](https://)"
      ],
      "metadata": {
        "id": "O4TfH5A5S3dg"
      }
    },
    {
      "cell_type": "code",
      "source": [
        "pop_13_18 = pop_df.filter((col(\"Year\") >= 2013) & (col(\"Year\") <= 2018))\n",
        "\n",
        "stats_df = pop_13_18.agg(\n",
        "    avg(\"Population\").alias(\"mean_population_2013_2018\"),\n",
        "    stddev(\"Population\").alias(\"stddev_population_2013_2018\")\n",
        ")\n",
        "\n",
        "stats_df.select(\n",
        "    format_number(col(\"mean_population_2013_2018\"), 0).alias(\"mean_population_2013_2018\"),\n",
        "    format_number(col(\"stddev_population_2013_2018\"), 2).alias(\"stddev_population_2013_2018\")\n",
        ").show()\n"
      ],
      "metadata": {
        "colab": {
          "base_uri": "https://localhost:8080/"
        },
        "id": "hyhdvMJDQ6CG",
        "outputId": "8250c839-eb6f-4ccd-fcd4-1e498b0a377d"
      },
      "execution_count": 22,
      "outputs": [
        {
          "output_type": "stream",
          "name": "stdout",
          "text": [
            "+-------------------------+---------------------------+\n",
            "|mean_population_2013_2018|stddev_population_2013_2018|\n",
            "+-------------------------+---------------------------+\n",
            "|              322,069,808|               4,158,441.04|\n",
            "+-------------------------+---------------------------+\n",
            "\n"
          ]
        }
      ]
    },
    {
      "cell_type": "markdown",
      "source": [
        "# PART 3 : Task 2\n",
        "UUsing the dataframe from the time-series (Part 1), For every series_id, find the best year: the year with the max/largest sum of \"value\" for all quarters in that year. Generate a report with each series id, the best year for that series, and the summed value for that year."
      ],
      "metadata": {
        "id": "nn2Aonp2UWXq"
      }
    },
    {
      "cell_type": "code",
      "source": [
        "ts_q = ts_df.filter(col(\"period\").rlike(\"^Q\\\\d{2}$\"))\n",
        "year_sums = (ts_q\n",
        "             .groupBy(\"series_id\", \"year\")\n",
        "             .agg(_sum(\"value\").alias(\"year_sum\")))\n",
        "\n",
        "w = Window.partitionBy(\"series_id\").orderBy(col(\"year_sum\").desc(), col(\"year\").asc())\n",
        "best_years = (year_sums\n",
        "              .withColumn(\"rn\", row_number().over(w))\n",
        "              .filter(col(\"rn\") == 1)\n",
        "              .select(\"series_id\", col(\"year\"), format_number(col(\"year_sum\"), 2).alias(\"year_sum\")))\n",
        "\n",
        "best_years.show(n=best_years.count(), truncate=False)"
      ],
      "metadata": {
        "colab": {
          "base_uri": "https://localhost:8080/"
        },
        "id": "fk2vtv-3REFs",
        "outputId": "08c0a2a2-2b04-4b62-f288-e69d3a4d9d4e"
      },
      "execution_count": 28,
      "outputs": [
        {
          "output_type": "stream",
          "name": "stdout",
          "text": [
            "+-----------+----+--------+\n",
            "|series_id  |year|year_sum|\n",
            "+-----------+----+--------+\n",
            "|PRS30006011|2022|20.50   |\n",
            "|PRS30006012|2022|17.10   |\n",
            "|PRS30006013|1998|705.89  |\n",
            "|PRS30006021|2010|17.70   |\n",
            "|PRS30006022|2010|12.40   |\n",
            "|PRS30006023|2014|503.22  |\n",
            "|PRS30006031|2022|20.50   |\n",
            "|PRS30006032|2021|17.10   |\n",
            "|PRS30006033|1998|702.67  |\n",
            "|PRS30006061|2022|37.00   |\n",
            "|PRS30006062|2021|31.60   |\n",
            "|PRS30006063|2024|646.75  |\n",
            "|PRS30006081|2021|24.40   |\n",
            "|PRS30006082|2021|24.40   |\n",
            "|PRS30006083|2021|110.74  |\n",
            "|PRS30006091|2002|43.30   |\n",
            "|PRS30006092|2002|44.40   |\n",
            "|PRS30006093|2013|514.16  |\n",
            "|PRS30006101|2020|33.50   |\n",
            "|PRS30006102|2020|36.20   |\n",
            "|PRS30006103|2024|644.92  |\n",
            "|PRS30006111|2020|34.20   |\n",
            "|PRS30006112|2008|42.70   |\n",
            "|PRS30006113|2024|654.21  |\n",
            "|PRS30006131|2021|18.50   |\n",
            "|PRS30006132|2021|18.50   |\n",
            "|PRS30006133|2021|114.16  |\n",
            "|PRS30006151|2020|26.50   |\n",
            "|PRS30006152|2020|31.10   |\n",
            "|PRS30006153|2020|529.71  |\n",
            "|PRS30006161|2010|50.60   |\n",
            "|PRS30006162|2002|48.10   |\n",
            "|PRS30006163|2014|515.92  |\n",
            "|PRS30006171|2015|11.10   |\n",
            "|PRS30006172|2015|11.10   |\n",
            "|PRS30006173|2001|123.11  |\n",
            "|PRS30006211|2010|35.00   |\n",
            "|PRS30006212|1997|38.80   |\n",
            "|PRS30006213|2007|523.82  |\n",
            "|PRS30006221|2021|13.10   |\n",
            "|PRS30006222|2021|13.10   |\n",
            "|PRS30006223|2021|114.48  |\n",
            "|PRS30006231|2021|18.70   |\n",
            "|PRS30006232|2021|18.70   |\n",
            "|PRS30006233|2021|111.05  |\n",
            "|PRS31006011|2022|20.20   |\n",
            "|PRS31006012|2022|20.00   |\n",
            "|PRS31006013|1998|707.85  |\n",
            "|PRS31006021|2010|19.40   |\n",
            "|PRS31006022|2010|14.30   |\n",
            "|PRS31006023|1997|503.92  |\n",
            "|PRS31006031|2022|23.70   |\n",
            "|PRS31006032|2011|21.90   |\n",
            "|PRS31006033|1998|705.69  |\n",
            "|PRS31006061|2022|35.50   |\n",
            "|PRS31006062|2021|32.60   |\n",
            "|PRS31006063|2024|649.17  |\n",
            "|PRS31006081|2021|17.10   |\n",
            "|PRS31006082|2021|17.10   |\n",
            "|PRS31006083|2018|105.44  |\n",
            "|PRS31006091|2010|42.80   |\n",
            "|PRS31006092|2002|49.80   |\n",
            "|PRS31006093|2014|507.25  |\n",
            "|PRS31006101|2000|34.60   |\n",
            "|PRS31006102|2020|40.90   |\n",
            "|PRS31006103|2024|649.39  |\n",
            "|PRS31006111|2009|37.50   |\n",
            "|PRS31006112|2008|58.30   |\n",
            "|PRS31006113|2024|674.00  |\n",
            "|PRS31006131|2021|12.70   |\n",
            "|PRS31006132|2021|12.70   |\n",
            "|PRS31006133|2021|112.01  |\n",
            "|PRS31006151|2020|27.60   |\n",
            "|PRS31006152|2020|35.90   |\n",
            "|PRS31006153|2020|529.53  |\n",
            "|PRS31006161|2010|64.10   |\n",
            "|PRS31006162|2002|54.70   |\n",
            "|PRS31006163|2014|510.86  |\n",
            "|PRS31006171|2009|8.90    |\n",
            "|PRS31006172|2009|8.90    |\n",
            "|PRS31006173|2001|112.14  |\n",
            "|PRS31006211|1997|47.60   |\n",
            "|PRS31006212|1997|55.50   |\n",
            "|PRS31006213|2007|523.36  |\n",
            "|PRS31006221|2021|9.00    |\n",
            "|PRS31006222|2021|9.00    |\n",
            "|PRS31006223|2021|114.18  |\n",
            "|PRS31006231|2021|13.20   |\n",
            "|PRS31006232|2021|13.20   |\n",
            "|PRS31006233|2021|107.34  |\n",
            "|PRS32006011|2022|21.10   |\n",
            "|PRS32006012|2021|14.10   |\n",
            "|PRS32006013|1995|726.14  |\n",
            "|PRS32006021|2010|14.50   |\n",
            "|PRS32006022|2010|9.20    |\n",
            "|PRS32006023|2012|503.28  |\n",
            "|PRS32006031|2021|18.20   |\n",
            "|PRS32006032|2021|17.60   |\n",
            "|PRS32006033|1995|710.85  |\n",
            "|PRS32006061|2022|40.60   |\n",
            "|PRS32006062|2021|30.90   |\n",
            "|PRS32006063|2024|642.05  |\n",
            "|PRS32006081|2021|26.80   |\n",
            "|PRS32006082|2021|26.80   |\n",
            "|PRS32006083|2013|114.92  |\n",
            "|PRS32006091|2002|35.00   |\n",
            "|PRS32006092|2004|31.70   |\n",
            "|PRS32006093|2014|513.80  |\n",
            "|PRS32006101|2020|34.10   |\n",
            "|PRS32006102|2003|34.60   |\n",
            "|PRS32006103|2024|636.77  |\n",
            "|PRS32006111|2020|35.40   |\n",
            "|PRS32006112|2008|34.90   |\n",
            "|PRS32006113|2024|639.06  |\n",
            "|PRS32006131|2021|21.30   |\n",
            "|PRS32006132|2021|21.30   |\n",
            "|PRS32006133|2012|117.30  |\n",
            "|PRS32006151|2020|27.00   |\n",
            "|PRS32006152|2020|26.10   |\n",
            "|PRS32006153|2020|531.48  |\n",
            "|PRS32006161|2002|36.00   |\n",
            "|PRS32006162|2002|31.60   |\n",
            "|PRS32006163|2013|516.75  |\n",
            "|PRS32006171|2015|15.50   |\n",
            "|PRS32006172|2015|15.50   |\n",
            "|PRS32006173|1998|137.19  |\n",
            "|PRS32006211|2021|22.90   |\n",
            "|PRS32006212|2021|23.80   |\n",
            "|PRS32006213|2007|517.01  |\n",
            "|PRS32006221|2021|17.30   |\n",
            "|PRS32006222|2021|17.30   |\n",
            "|PRS32006223|2021|114.67  |\n",
            "|PRS32006231|2021|22.60   |\n",
            "|PRS32006232|2021|22.60   |\n",
            "|PRS32006233|2021|114.10  |\n",
            "|PRS84006011|2022|22.80   |\n",
            "|PRS84006012|2021|25.40   |\n",
            "|PRS84006013|2024|537.88  |\n",
            "|PRS84006021|2010|6.00    |\n",
            "|PRS84006022|2010|7.00    |\n",
            "|PRS84006023|1997|518.51  |\n",
            "|PRS84006031|2021|27.50   |\n",
            "|PRS84006032|2021|27.60   |\n",
            "|PRS84006033|2024|526.09  |\n",
            "|PRS84006041|2021|38.80   |\n",
            "|PRS84006042|2021|35.00   |\n",
            "|PRS84006043|2024|605.26  |\n",
            "|PRS84006051|2021|66.30   |\n",
            "|PRS84006052|2021|70.80   |\n",
            "|PRS84006053|2024|750.87  |\n",
            "|PRS84006061|2021|54.30   |\n",
            "|PRS84006062|2021|53.80   |\n",
            "|PRS84006063|2024|729.40  |\n",
            "|PRS84006081|2021|82.70   |\n",
            "|PRS84006082|2021|95.20   |\n",
            "|PRS84006083|2024|778.53  |\n",
            "|PRS84006091|2020|25.70   |\n",
            "|PRS84006092|2009|30.50   |\n",
            "|PRS84006093|2024|575.23  |\n",
            "|PRS84006101|2020|40.30   |\n",
            "|PRS84006102|2020|47.60   |\n",
            "|PRS84006103|2024|693.22  |\n",
            "|PRS84006111|2022|26.10   |\n",
            "|PRS84006112|2012|24.00   |\n",
            "|PRS84006113|2024|602.55  |\n",
            "|PRS84006131|2022|58.00   |\n",
            "|PRS84006132|2022|56.60   |\n",
            "|PRS84006133|2024|643.08  |\n",
            "|PRS84006141|2022|40.00   |\n",
            "|PRS84006142|2022|36.50   |\n",
            "|PRS84006143|2024|620.26  |\n",
            "|PRS84006151|2020|33.20   |\n",
            "|PRS84006152|2020|41.90   |\n",
            "|PRS84006153|2021|550.31  |\n",
            "|PRS84006161|2010|21.90   |\n",
            "|PRS84006162|2020|26.10   |\n",
            "|PRS84006163|2024|562.63  |\n",
            "|PRS84006171|2020|12.20   |\n",
            "|PRS84006172|2020|18.20   |\n",
            "|PRS84006173|2001|559.66  |\n",
            "|PRS85006011|2022|23.20   |\n",
            "|PRS85006012|2021|26.30   |\n",
            "|PRS85006013|2024|539.02  |\n",
            "|PRS85006021|2010|6.10    |\n",
            "|PRS85006022|2010|7.20    |\n",
            "|PRS85006023|1997|519.09  |\n",
            "|PRS85006031|2021|28.20   |\n",
            "|PRS85006032|2021|29.00   |\n",
            "|PRS85006033|2024|527.44  |\n",
            "|PRS85006041|2021|38.70   |\n",
            "|PRS85006042|2021|34.90   |\n",
            "|PRS85006043|2024|605.53  |\n",
            "|PRS85006051|2021|64.60   |\n",
            "|PRS85006052|2021|69.70   |\n",
            "|PRS85006053|2024|751.18  |\n",
            "|PRS85006061|2021|54.50   |\n",
            "|PRS85006062|2021|54.00   |\n",
            "|PRS85006063|2024|730.01  |\n",
            "|PRS85006081|2021|78.90   |\n",
            "|PRS85006082|2021|92.60   |\n",
            "|PRS85006083|2024|778.69  |\n",
            "|PRS85006091|2020|26.20   |\n",
            "|PRS85006092|2009|30.10   |\n",
            "|PRS85006093|2024|574.02  |\n",
            "|PRS85006101|2020|40.80   |\n",
            "|PRS85006102|2020|48.40   |\n",
            "|PRS85006103|2024|692.02  |\n",
            "|PRS85006111|2022|25.60   |\n",
            "|PRS85006112|2012|22.70   |\n",
            "|PRS85006113|2024|602.78  |\n",
            "|PRS85006131|2022|56.10   |\n",
            "|PRS85006132|2022|53.90   |\n",
            "|PRS85006133|2024|642.94  |\n",
            "|PRS85006141|2022|38.70   |\n",
            "|PRS85006142|2022|34.80   |\n",
            "|PRS85006143|2024|620.25  |\n",
            "|PRS85006151|2020|33.80   |\n",
            "|PRS85006152|2020|42.70   |\n",
            "|PRS85006153|2021|550.30  |\n",
            "|PRS85006161|2010|22.40   |\n",
            "|PRS85006162|2020|26.30   |\n",
            "|PRS85006163|2024|561.69  |\n",
            "|PRS85006171|2020|12.00   |\n",
            "|PRS85006172|2020|18.30   |\n",
            "|PRS85006173|2001|558.58  |\n",
            "|PRS88003011|2022|25.20   |\n",
            "|PRS88003012|2021|26.20   |\n",
            "|PRS88003013|2024|541.05  |\n",
            "|PRS88003021|2010|6.40    |\n",
            "|PRS88003022|2010|7.60    |\n",
            "|PRS88003023|1997|517.82  |\n",
            "|PRS88003031|2021|26.10   |\n",
            "|PRS88003032|2021|27.30   |\n",
            "|PRS88003033|2024|529.82  |\n",
            "|PRS88003041|2021|49.60   |\n",
            "|PRS88003042|2021|39.10   |\n",
            "|PRS88003043|2024|618.06  |\n",
            "|PRS88003051|2021|75.90   |\n",
            "|PRS88003052|2021|73.30   |\n",
            "|PRS88003053|2024|765.55  |\n",
            "|PRS88003061|2021|51.80   |\n",
            "|PRS88003062|2021|53.80   |\n",
            "|PRS88003063|2024|740.68  |\n",
            "|PRS88003081|2021|113.60  |\n",
            "|PRS88003082|2021|103.90  |\n",
            "|PRS88003083|2024|800.79  |\n",
            "|PRS88003091|2021|22.30   |\n",
            "|PRS88003092|2020|24.80   |\n",
            "|PRS88003093|2024|583.26  |\n",
            "|PRS88003101|2020|39.70   |\n",
            "|PRS88003102|2020|46.50   |\n",
            "|PRS88003103|2024|698.98  |\n",
            "|PRS88003111|2020|22.30   |\n",
            "|PRS88003112|2020|20.50   |\n",
            "|PRS88003113|2024|599.20  |\n",
            "|PRS88003121|2022|76.20   |\n",
            "|PRS88003122|2022|60.00   |\n",
            "|PRS88003123|2024|550.97  |\n",
            "|PRS88003131|2022|59.10   |\n",
            "|PRS88003132|2021|59.90   |\n",
            "|PRS88003133|2024|647.80  |\n",
            "|PRS88003141|2022|36.90   |\n",
            "|PRS88003142|2022|32.50   |\n",
            "|PRS88003143|2024|619.31  |\n",
            "|PRS88003151|2020|32.60   |\n",
            "|PRS88003152|2020|41.20   |\n",
            "|PRS88003153|2021|550.06  |\n",
            "|PRS88003161|2010|27.30   |\n",
            "|PRS88003162|2020|26.70   |\n",
            "|PRS88003163|2024|571.16  |\n",
            "|PRS88003171|2020|15.20   |\n",
            "|PRS88003172|2020|14.50   |\n",
            "|PRS88003173|2001|558.62  |\n",
            "|PRS88003181|2021|209.80  |\n",
            "|PRS88003182|2002|308.00  |\n",
            "|PRS88003183|2024|1,064.20|\n",
            "|PRS88003191|2010|153.00  |\n",
            "|PRS88003192|2002|282.80  |\n",
            "|PRS88003193|2024|860.84  |\n",
            "|PRS88003201|2022|37.20   |\n",
            "|PRS88003202|2022|28.70   |\n",
            "|PRS88003203|2024|583.44  |\n",
            "+-----------+----+--------+\n",
            "\n"
          ]
        }
      ]
    },
    {
      "cell_type": "markdown",
      "source": [
        "# PART 3 : Task 3\n",
        "* Using both dataframes from Part 1 and Part 2, generate a report that will provide the value for series_id = PRS30006032 and period = Q01 and the population for that given year (if available in the population"
      ],
      "metadata": {
        "id": "XzGmc7txXQ0M"
      }
    },
    {
      "cell_type": "code",
      "source": [
        "series_id_target = \"PRS30006032\"\n",
        "q01 = (ts_df\n",
        "       .filter( (col(\"series_id\") == series_id_target) & (col(\"period\") == \"Q01\") )\n",
        "       .select(\"series_id\", \"year\", \"period\", \"value\"))\n",
        "\n",
        "report_c = (q01.join(pop_df.select(\"Year\",\"Population\"), q01.year == pop_df.Year, \"left\")\n",
        "            .select(\n",
        "                q01.series_id,\n",
        "                q01.year,\n",
        "                q01.period,\n",
        "                q01.value,\n",
        "                format_number(pop_df.Population, 0).alias(\"Population\")\n",
        "            )\n",
        "            .orderBy(\"year\"))\n",
        "\n",
        "report_c.filter(report_c.year == 2018).show(truncate=False)\n",
        "\n",
        "report_c.show(n=report_c.count(), truncate=False)"
      ],
      "metadata": {
        "colab": {
          "base_uri": "https://localhost:8080/"
        },
        "id": "-bsKlNo5RQAm",
        "outputId": "e4048b40-9dc7-4ec7-ad71-a45316120d79"
      },
      "execution_count": 35,
      "outputs": [
        {
          "output_type": "stream",
          "name": "stdout",
          "text": [
            "+-----------+----+------+-----+-----------+\n",
            "|series_id  |year|period|value|Population |\n",
            "+-----------+----+------+-----+-----------+\n",
            "|PRS30006032|2018|Q01   |0.5  |327,167,439|\n",
            "+-----------+----+------+-----+-----------+\n",
            "\n",
            "+-----------+----+------+-----+-----------+\n",
            "|series_id  |year|period|value|Population |\n",
            "+-----------+----+------+-----+-----------+\n",
            "|PRS30006032|1995|Q01   |0.0  |NULL       |\n",
            "|PRS30006032|1996|Q01   |-4.2 |NULL       |\n",
            "|PRS30006032|1997|Q01   |2.8  |NULL       |\n",
            "|PRS30006032|1998|Q01   |0.9  |NULL       |\n",
            "|PRS30006032|1999|Q01   |-4.1 |NULL       |\n",
            "|PRS30006032|2000|Q01   |0.5  |NULL       |\n",
            "|PRS30006032|2001|Q01   |-6.3 |NULL       |\n",
            "|PRS30006032|2002|Q01   |-6.6 |NULL       |\n",
            "|PRS30006032|2003|Q01   |-5.7 |NULL       |\n",
            "|PRS30006032|2004|Q01   |2.0  |NULL       |\n",
            "|PRS30006032|2005|Q01   |-0.5 |NULL       |\n",
            "|PRS30006032|2006|Q01   |1.8  |NULL       |\n",
            "|PRS30006032|2007|Q01   |-0.8 |NULL       |\n",
            "|PRS30006032|2008|Q01   |-3.5 |NULL       |\n",
            "|PRS30006032|2009|Q01   |-21.0|NULL       |\n",
            "|PRS30006032|2010|Q01   |3.2  |NULL       |\n",
            "|PRS30006032|2011|Q01   |1.5  |NULL       |\n",
            "|PRS30006032|2012|Q01   |2.5  |NULL       |\n",
            "|PRS30006032|2013|Q01   |0.5  |316,128,839|\n",
            "|PRS30006032|2014|Q01   |-0.1 |318,857,056|\n",
            "|PRS30006032|2015|Q01   |-1.7 |321,418,821|\n",
            "|PRS30006032|2016|Q01   |-1.4 |323,127,515|\n",
            "|PRS30006032|2017|Q01   |0.9  |325,719,178|\n",
            "|PRS30006032|2018|Q01   |0.5  |327,167,439|\n",
            "|PRS30006032|2019|Q01   |-1.6 |328,239,523|\n",
            "|PRS30006032|2020|Q01   |-7.0 |NULL       |\n",
            "|PRS30006032|2021|Q01   |0.7  |331,893,745|\n",
            "|PRS30006032|2022|Q01   |5.3  |333,287,562|\n",
            "|PRS30006032|2023|Q01   |0.3  |334,914,896|\n",
            "|PRS30006032|2024|Q01   |-0.7 |NULL       |\n",
            "|PRS30006032|2025|Q01   |0.4  |NULL       |\n",
            "+-----------+----+------+-----+-----------+\n",
            "\n"
          ]
        }
      ]
    }
  ]
}